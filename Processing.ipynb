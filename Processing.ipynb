{
 "cells": [
  {
   "cell_type": "markdown",
   "id": "40919029-35a2-442c-8b2a-5331f2fa44d0",
   "metadata": {},
   "source": [
    "# Processing Responses\n",
    "__Goal:__ turn prompt sentences into columns\n",
    "\n",
    "\n"
   ]
  },
  {
   "cell_type": "code",
   "execution_count": null,
   "id": "0fe4f2e4-d921-4960-a60d-9793ced8eb3f",
   "metadata": {},
   "outputs": [],
   "source": [
    "import pandas as pd\n",
    "\n",
    "# pass in name of CSV as string\n",
    "def getAllRows(csv): \n",
    "    df = pd.read_csv(csv)\n",
    "\n",
    "    if '' not in gpt_df.columns:\n",
    "        gpt_df['Response 1'] = None"
   ]
  }
 ],
 "metadata": {
  "kernelspec": {
   "display_name": "Python 3 (ipykernel)",
   "language": "python",
   "name": "python3"
  },
  "language_info": {
   "codemirror_mode": {
    "name": "ipython",
    "version": 3
   },
   "file_extension": ".py",
   "mimetype": "text/x-python",
   "name": "python",
   "nbconvert_exporter": "python",
   "pygments_lexer": "ipython3",
   "version": "3.12.2"
  }
 },
 "nbformat": 4,
 "nbformat_minor": 5
}
