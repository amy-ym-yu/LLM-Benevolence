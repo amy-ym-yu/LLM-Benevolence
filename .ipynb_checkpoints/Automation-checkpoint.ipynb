{
 "cells": [
  {
   "cell_type": "markdown",
   "id": "335d9360-5eb8-4e34-b492-48cb976e7481",
   "metadata": {},
   "source": [
    "# Automation\n",
    "**Prompting Guidelines**\n",
    "- sampling 75% of personas\n",
    "- 2 calls per persona\n",
    "  \n",
    "__ChatGPT 3.5 Turbo__\n",
    "- input: \\$0.50/1M tokens\n",
    "- output: \\$1.50/1M tokens\n",
    "\n",
    "__Claude 2.1__\n",
    "- input: \\$8/1M tokens\n",
    "- output: \\$24/1M tokens"
   ]
  },
  {
   "cell_type": "code",
   "execution_count": 11,
   "id": "5b29e61a-81ea-47a1-9741-1004513b36b2",
   "metadata": {},
   "outputs": [
    {
     "name": "stdout",
     "output_type": "stream",
     "text": [
      "Number of rows in sampled DataFrame: 688\n"
     ]
    }
   ],
   "source": [
    "import pandas as pd\n",
    "\n",
    "df = pd.read_csv('demographic_personas.csv')\n",
    "sampled_df = df.sample(frac=0.75, random_state=42)  # Set random_state for reproducibility\n",
    "print(\"Number of rows in sampled DataFrame:\", sampled_df.shape[0])"
   ]
  },
  {
   "cell_type": "code",
   "execution_count": 30,
   "id": "65a079f1-b945-4de1-8dd9-b77be6532546",
   "metadata": {},
   "outputs": [],
   "source": [
    "gsam_prompt = \"\"\"\n",
    "The person comes across a stranger who is sitting slumped in a doorway head down, eyes closed, not moving. \n",
    "The person hears the stranger coughing and groaning.\n",
    "\"\"\"\n",
    "q = \"\"\"\n",
    "Please provide a value from 0-100 on the person’s inclination to help the stranger. \n",
    "0 indicates the person is not at all likely to help to stranger, while 100 indicates the person is very likely to help the stranger.\n",
    "\n",
    "If any, provide a value for how many minutes the person stays and helps the stranger. \n",
    "\n",
    "If any, write a brief story about what actions the person takes.\n",
    "\n",
    "Please format your answer like so:\n",
    "Helpfulness: x (integer between 0-100)\n",
    "Minutes waited: y (integer value)\n",
    "Actions:\n",
    "- Person does/does not z.\n",
    "\"\"\""
   ]
  },
  {
   "cell_type": "markdown",
   "id": "d84c404a-8826-48dd-8c42-3dd7d2c3a351",
   "metadata": {},
   "source": [
    "## Claude"
   ]
  },
  {
   "cell_type": "code",
   "execution_count": 46,
   "id": "f290ba93-5800-4db3-8146-938731b3d857",
   "metadata": {},
   "outputs": [
    {
     "name": "stdout",
     "output_type": "stream",
     "text": [
      "Helpfulness: 90\n",
      "Minutes waited: 15\n",
      "Actions:\n",
      "- The Native American senior citizen person approaches the stranger cautiously, but with concern.\n",
      "- She kneels down next to the stranger and gently asks if they are alright and need assistance.\n",
      "- When the stranger responds with coughing and groaning, the person immediately calls emergency services to request medical help.\n",
      "- While waiting for the ambulance, the person stays with the stranger, offering sips of water and words of comfort.\n",
      "- She uses her own jacket to cover the stranger and tries to keep them calm and responsive until the paramedics arrive.\n",
      "- The person remains with the stranger, providing information to the medical team and ensuring the stranger is taken care of.\n",
      "Helpfulness: 90\n",
      "Minutes waited: 15\n",
      "Actions:\n",
      "- The Native American senior citizen person approaches the stranger cautiously, but with concern.\n",
      "- She kneels down next to the stranger and gently asks if they are alright, placing a hand on their shoulder.\n",
      "- When the stranger coughs and groans, the person becomes more worried and decides to call for emergency medical assistance.\n",
      "- She stays with the stranger, trying to keep them calm and comfortable, until the ambulance arrives.\n",
      "- The person provides any relevant information about the stranger's condition to the emergency responders.\n",
      "- Once the stranger is taken care of, the person ensures they have a way to get home safely or to the hospital, if needed.\n"
     ]
    }
   ],
   "source": [
    "from anthropic import Anthropic\n",
    "import os\n",
    "import json\n",
    "import time\n",
    "\n",
    "claude_df = sampled_df.sample(frac=0.001, random_state=42)\n",
    "delay = 15\n",
    "\n",
    "def makeApiCall(prompt, num):\n",
    "    auth_pers = json.loads(open(\"api_auth.txt\").read()) # add api auth\n",
    "    os.environ[\"ANTHROPIC_API_KEY\"] = auth_pers['anthropic']['secretKey']\n",
    "    client = Anthropic()\n",
    "    \n",
    "    full_context = prompt + gsam_prompt + q + num\n",
    "    message = client.messages.create(\n",
    "        model=\"claude-3-haiku-20240307\",\n",
    "        max_tokens=300,\n",
    "        temperature=0.0,\n",
    "        system=\"You are a helpful observer who can provide insight on people.\",\n",
    "        messages=[\n",
    "            {\"role\": \"user\", \"content\": full_context}\n",
    "        ]\n",
    "    )\n",
    "    return message.content[0].text\n",
    "\n",
    "\n",
    "for index, row in claude_df.iterrows():\n",
    "    prompt = row['Prompt'] # get prompt\n",
    "    \n",
    "    response1 = makeApiCall(prompt, \" (1)\")\n",
    "    print(response1)\n",
    "    claude_df.at[index, 'Response 1'] = response1\n",
    "\n",
    "    time.sleep(delay)\n",
    "    \n",
    "    response2 = makeApiCall(prompt, \" (2)\")\n",
    "    print(response2)\n",
    "    claude_df.at[index, 'Response 2'] = response2\n",
    "\n",
    "claude_df.to_csv('claude_responses.csv', index=False)"
   ]
  },
  {
   "cell_type": "markdown",
   "id": "eaf90363-6a85-4a26-8346-c11073fcfadc",
   "metadata": {},
   "source": [
    "## ChatGPT"
   ]
  },
  {
   "cell_type": "code",
   "execution_count": null,
   "id": "1155f056-fe93-45a5-8a88-693765c4b724",
   "metadata": {},
   "outputs": [],
   "source": []
  }
 ],
 "metadata": {
  "kernelspec": {
   "display_name": "Python 3 (ipykernel)",
   "language": "python",
   "name": "python3"
  },
  "language_info": {
   "codemirror_mode": {
    "name": "ipython",
    "version": 3
   },
   "file_extension": ".py",
   "mimetype": "text/x-python",
   "name": "python",
   "nbconvert_exporter": "python",
   "pygments_lexer": "ipython3",
   "version": "3.12.2"
  }
 },
 "nbformat": 4,
 "nbformat_minor": 5
}
