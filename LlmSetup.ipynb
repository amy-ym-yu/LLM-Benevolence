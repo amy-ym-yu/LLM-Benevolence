{
 "cells": [
  {
   "cell_type": "code",
   "execution_count": 3,
   "id": "39076c00",
   "metadata": {},
   "outputs": [
    {
     "name": "stdout",
     "output_type": "stream",
     "text": [
      "Requirement already satisfied: blosc2 in /Applications/anaconda3/lib/python3.11/site-packages (2.6.2)\n",
      "Requirement already satisfied: cython in /Applications/anaconda3/lib/python3.11/site-packages (3.0.10)\n",
      "Requirement already satisfied: pyqt5 in /Applications/anaconda3/lib/python3.11/site-packages (5.15.10)\n",
      "Requirement already satisfied: pyqtwebengine in /Applications/anaconda3/lib/python3.11/site-packages (5.15.6)\n",
      "Requirement already satisfied: black in /Applications/anaconda3/lib/python3.11/site-packages (24.4.2)\n",
      "Requirement already satisfied: numpy>=1.20.3 in /Applications/anaconda3/lib/python3.11/site-packages (from blosc2) (1.24.3)\n",
      "Requirement already satisfied: ndindex>=1.4 in /Applications/anaconda3/lib/python3.11/site-packages (from blosc2) (1.8)\n",
      "Requirement already satisfied: msgpack in /Applications/anaconda3/lib/python3.11/site-packages (from blosc2) (1.0.3)\n",
      "Requirement already satisfied: numexpr in /Applications/anaconda3/lib/python3.11/site-packages (from blosc2) (2.8.4)\n",
      "Requirement already satisfied: py-cpuinfo in /Applications/anaconda3/lib/python3.11/site-packages (from blosc2) (8.0.0)\n",
      "Requirement already satisfied: PyQt5-sip<13,>=12.13 in /Applications/anaconda3/lib/python3.11/site-packages (from pyqt5) (12.13.0)\n",
      "Requirement already satisfied: PyQt5-Qt5>=5.15.2 in /Applications/anaconda3/lib/python3.11/site-packages (from pyqt5) (5.15.13)\n",
      "Requirement already satisfied: PyQtWebEngine-Qt5>=5.15.0 in /Applications/anaconda3/lib/python3.11/site-packages (from pyqtwebengine) (5.15.13)\n",
      "Requirement already satisfied: click>=8.0.0 in /Applications/anaconda3/lib/python3.11/site-packages (from black) (8.0.4)\n",
      "Requirement already satisfied: mypy-extensions>=0.4.3 in /Applications/anaconda3/lib/python3.11/site-packages (from black) (1.0.0)\n",
      "Requirement already satisfied: packaging>=22.0 in /Applications/anaconda3/lib/python3.11/site-packages (from black) (23.2)\n",
      "Requirement already satisfied: pathspec>=0.9.0 in /Applications/anaconda3/lib/python3.11/site-packages (from black) (0.10.3)\n",
      "Requirement already satisfied: platformdirs>=2 in /Applications/anaconda3/lib/python3.11/site-packages (from black) (3.10.0)\n",
      "Collecting blosc2==2.0.0\n",
      "  Obtaining dependency information for blosc2==2.0.0 from https://files.pythonhosted.org/packages/04/b3/12c4cb2ad097f69d19386537ead67daec16e1310404aa6ae30ef40d86589/blosc2-2.0.0-cp311-cp311-macosx_11_0_arm64.whl.metadata\n",
      "  Downloading blosc2-2.0.0-cp311-cp311-macosx_11_0_arm64.whl.metadata (11 kB)\n",
      "Requirement already satisfied: tables==3.8.0 in /Applications/anaconda3/lib/python3.11/site-packages (3.8.0)\n",
      "Requirement already satisfied: msgpack in /Applications/anaconda3/lib/python3.11/site-packages (from blosc2==2.0.0) (1.0.3)\n",
      "Requirement already satisfied: cython>=0.29.21 in /Applications/anaconda3/lib/python3.11/site-packages (from tables==3.8.0) (3.0.10)\n",
      "Requirement already satisfied: numpy>=1.19.0 in /Applications/anaconda3/lib/python3.11/site-packages (from tables==3.8.0) (1.24.3)\n",
      "Requirement already satisfied: numexpr>=2.6.2 in /Applications/anaconda3/lib/python3.11/site-packages (from tables==3.8.0) (2.8.4)\n",
      "Requirement already satisfied: packaging in /Applications/anaconda3/lib/python3.11/site-packages (from tables==3.8.0) (23.2)\n",
      "Requirement already satisfied: py-cpuinfo in /Applications/anaconda3/lib/python3.11/site-packages (from tables==3.8.0) (8.0.0)\n",
      "Downloading blosc2-2.0.0-cp311-cp311-macosx_11_0_arm64.whl (3.1 MB)\n",
      "\u001b[2K   \u001b[90m━━━━━━━━━━━━━━━━━━━━━━━━━━━━━━━━━━━━━━━━\u001b[0m \u001b[32m3.1/3.1 MB\u001b[0m \u001b[31m11.2 MB/s\u001b[0m eta \u001b[36m0:00:00\u001b[0m00:01\u001b[0m00:01\u001b[0m\n",
      "\u001b[?25hInstalling collected packages: blosc2\n",
      "  Attempting uninstall: blosc2\n",
      "    Found existing installation: blosc2 2.6.2\n",
      "    Uninstalling blosc2-2.6.2:\n",
      "      Successfully uninstalled blosc2-2.6.2\n",
      "Successfully installed blosc2-2.0.0\n"
     ]
    }
   ],
   "source": [
    "!pip install blosc2 cython pyqt5 pyqtwebengine --upgrade black\n",
    "!pip install 'blosc2==2.0.0' 'tables==3.8.0'\n",
    "!pip install --quiet openai # install open ai\n",
    "!pip install --quiet langchain langchain_openai # install GPT tools"
   ]
  },
  {
   "cell_type": "code",
   "execution_count": 4,
   "id": "c8f2de80",
   "metadata": {},
   "outputs": [],
   "source": [
    "import os\n",
    "import json\n",
    "\n",
    "from ipywidgets import FileUpload\n",
    "from io import BytesIO\n",
    "\n",
    "from openai import OpenAI\n",
    "from langchain.chains.conversation.memory import ConversationBufferMemory\n",
    "from langchain import LLMChain, PromptTemplate\n",
    "from langchain_openai import OpenAI as OpenAIChat"
   ]
  },
  {
   "cell_type": "code",
   "execution_count": 7,
   "id": "95c3b842",
   "metadata": {},
   "outputs": [],
   "source": [
    "auth_pers = json.loads(open(\"api_auth.txt\").read()) # add api auth\n"
   ]
  },
  {
   "cell_type": "code",
   "execution_count": null,
   "id": "c81aae2f",
   "metadata": {},
   "outputs": [],
   "source": []
  }
 ],
 "metadata": {
  "kernelspec": {
   "display_name": "Python 3 (ipykernel)",
   "language": "python",
   "name": "python3"
  },
  "language_info": {
   "codemirror_mode": {
    "name": "ipython",
    "version": 3
   },
   "file_extension": ".py",
   "mimetype": "text/x-python",
   "name": "python",
   "nbconvert_exporter": "python",
   "pygments_lexer": "ipython3",
   "version": "3.11.5"
  }
 },
 "nbformat": 4,
 "nbformat_minor": 5
}
