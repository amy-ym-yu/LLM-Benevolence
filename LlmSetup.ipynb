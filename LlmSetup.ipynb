{
 "cells": [
  {
   "cell_type": "markdown",
   "id": "f5304249",
   "metadata": {},
   "source": [
    "# Prompts"
   ]
  },
  {
   "cell_type": "code",
   "execution_count": 1,
   "id": "c81aae2f",
   "metadata": {},
   "outputs": [],
   "source": [
    "example = {\n",
    "    \"gender\": \"woman\",\n",
    "    \"age\": \"20\",\n",
    "    \"mstatus\": \"married\",\n",
    "    \"spirituality\": \"spiritual\",\n",
    "    \"occupation\": \"healthcare\",\n",
    "}\n",
    "gsam_demo = \"A \" + example[\"spirituality\"] + \" \" + example[\"gender\"] + \" who is \" + example[\"age\"] + \" and \" + example[\"mstatus\"] + \"works in a field that is \" + example[\"occupation\"] + \" related.\"\n",
    "gsam_prompt = \"\"\"\n",
    "The person comes across a stranger who is sitting slumped in a doorway head down, eyes closed, not moving. The person hears the stranger coughing and groaning.\n",
    "\"\"\"\n",
    "q = \"\"\"\n",
    "Please provide a value from 0-100 on the person’s inclination to help the stranger. \n",
    "0 indicates the person is not at all likely to help to stranger, while 100 indicates the person is very likely to help the stranger.\n",
    "\n",
    "If any, provide a value for how many minutes the person stays and helps the stranger. \n",
    "\n",
    "If any, write a brief story about what actions the person takes.\n",
    "\n",
    "Please format your answer like so:\n",
    "Helpfulness: x\n",
    "Minutes waited: y\n",
    "Actions:\n",
    "- Person does/does not z.\n",
    "\"\"\""
   ]
  },
  {
   "cell_type": "code",
   "execution_count": 2,
   "id": "efb571af",
   "metadata": {},
   "outputs": [
    {
     "name": "stdout",
     "output_type": "stream",
     "text": [
      "A spiritual woman who is 20 and marriedworks in a field that is healthcare related.\n",
      "The person comes across a stranger who is sitting slumped in a doorway head down, eyes closed, not moving. The person hears the stranger coughing and groaning.\n",
      "\n",
      "Please provide a value from 0-100 on the person’s inclination to help the stranger. \n",
      "0 indicates the person is not at all likely to help to stranger, while 100 indicates the person is very likely to help the stranger.\n",
      "\n",
      "If any, provide a value for how many minutes the person stays and helps the stranger. \n",
      "\n",
      "If any, write a brief story about what actions the person takes.\n",
      "\n",
      "Please format your answer like so:\n",
      "Helpfulness: x\n",
      "Minutes waited: y\n",
      "Actions:\n",
      "- Person does/does not z.\n",
      "\n"
     ]
    }
   ],
   "source": [
    "q_complete = gsam_demo + gsam_prompt + q\n",
    "print(q_complete)"
   ]
  },
  {
   "cell_type": "markdown",
   "id": "a1be58b8",
   "metadata": {},
   "source": [
    "# Claude Connection"
   ]
  },
  {
   "cell_type": "code",
   "execution_count": 3,
   "id": "b172245a",
   "metadata": {},
   "outputs": [
    {
     "name": "stdout",
     "output_type": "stream",
     "text": [
      "Python 3.12.2\n"
     ]
    }
   ],
   "source": [
    "!python --version\n",
    "!python -m venv claude-env\n"
   ]
  },
  {
   "cell_type": "code",
   "execution_count": 4,
   "id": "155cedb9-074c-44f3-9ec4-a1f2650a25f3",
   "metadata": {},
   "outputs": [
    {
     "name": "stdout",
     "output_type": "stream",
     "text": [
      "Message(id='msg_01FvmAc4MjuNB3tN88PyEg9J', content=[TextBlock(text='I do not have enough information to make definitive judgments about this specific situation or individual. However, here is a thoughtful perspective:\\n\\nHelpfulness: 75\\nMinutes waited: 10\\nActions:\\n- Being in healthcare, she likely has compassion and a desire to help those in need. Yet safety and other responsibilities may limit how much she can do. \\n- She may approach the stranger to ask if they need assistance or see if others can provide support. If the person seems unstable or the situation unsafe, contacting authorities may be the best option.\\n- With wisdom and discernment, we can find ways to show care for others in need while considering limitations and other duties we have. A kind word, checking if the person needs water or a blanket, or simply not ignoring them can make a difference.\\n\\nThe details would depend on the specific circumstances. But in general, acting with compassion while balancing other responsibilities and safety is most prudent. Perhaps there is a thoughtful way she can help', type='text')], model='claude-2.1', role='assistant', stop_reason='max_tokens', stop_sequence=None, type='message', usage=Usage(input_tokens=190, output_tokens=200)) [TextBlock(text='I do not have enough information to make definitive judgments about this specific situation or individual. However, here is a thoughtful perspective:\\n\\nHelpfulness: 75\\nMinutes waited: 10\\nActions:\\n- Being in healthcare, she likely has compassion and a desire to help those in need. Yet safety and other responsibilities may limit how much she can do. \\n- She may approach the stranger to ask if they need assistance or see if others can provide support. If the person seems unstable or the situation unsafe, contacting authorities may be the best option.\\n- With wisdom and discernment, we can find ways to show care for others in need while considering limitations and other duties we have. A kind word, checking if the person needs water or a blanket, or simply not ignoring them can make a difference.\\n\\nThe details would depend on the specific circumstances. But in general, acting with compassion while balancing other responsibilities and safety is most prudent. Perhaps there is a thoughtful way she can help', type='text')]\n"
     ]
    }
   ],
   "source": [
    "from anthropic import Anthropic\n",
    "import os\n",
    "import json\n",
    "\n",
    "\n",
    "auth_pers = json.loads(open(\"api_auth.txt\").read()) # add api auth\n",
    "os.environ[\"ANTHROPIC_API_KEY\"] = auth_pers['anthropic']['secretKey']\n",
    "\n",
    "client = Anthropic()\n",
    "\n",
    "message = client.messages.create(\n",
    "    model=\"claude-2.1\",\n",
    "    max_tokens=200,\n",
    "    temperature=0.0,\n",
    "    system=\"You are a helpful observer who can provide insight on people.\",\n",
    "    messages=[\n",
    "        {\"role\": \"user\", \"content\": q_complete}\n",
    "    ]\n",
    ")\n",
    "\n",
    "print(message, message.content)"
   ]
  },
  {
   "cell_type": "code",
   "execution_count": 5,
   "id": "fd8f9fb4-375a-4abc-b765-5e03cea5fa86",
   "metadata": {
    "scrolled": true
   },
   "outputs": [
    {
     "name": "stdout",
     "output_type": "stream",
     "text": [
      "I do not have enough information to make definitive judgments about this specific situation or individual. However, here is a thoughtful perspective:\n",
      "\n",
      "Helpfulness: 75\n",
      "Minutes waited: 10\n",
      "Actions:\n",
      "- Being in healthcare, she likely has compassion and a desire to help those in need. Yet safety and other responsibilities may limit how much she can do. \n",
      "- She may approach the stranger to ask if they need assistance or see if others can provide support. If the person seems unstable or the situation unsafe, contacting authorities may be the best option.\n",
      "- With wisdom and discernment, we can find ways to show care for others in need while considering limitations and other duties we have. A kind word, checking if the person needs water or a blanket, or simply not ignoring them can make a difference.\n",
      "\n",
      "The details would depend on the specific circumstances. But in general, acting with compassion while balancing other responsibilities and safety is most prudent. Perhaps there is a thoughtful way she can help\n"
     ]
    }
   ],
   "source": [
    "response = message.content[0].text\n",
    "print(response)"
   ]
  },
  {
   "cell_type": "markdown",
   "id": "8e7fbc94",
   "metadata": {},
   "source": [
    "# ChatGPT connection"
   ]
  },
  {
   "cell_type": "code",
   "execution_count": 4,
   "id": "c8f2de80",
   "metadata": {},
   "outputs": [],
   "source": [
    "import os\n",
    "import json\n",
    "\n",
    "from ipywidgets import FileUpload\n",
    "from io import BytesIO\n",
    "\n",
    "from openai import OpenAI\n",
    "from langchain.chains.conversation.memory import ConversationBufferMemory\n",
    "from langchain import LLMChain, PromptTemplate\n",
    "from langchain_openai import OpenAI as OpenAIChat"
   ]
  },
  {
   "cell_type": "code",
   "execution_count": 5,
   "id": "95c3b842",
   "metadata": {},
   "outputs": [],
   "source": [
    "auth_pers = json.loads(open(\"api_auth.txt\").read()) # add api auth\n",
    "os.environ[\"OPENAI_API_KEY\"] = auth_pers['openai']['secretKey']\n",
    "\n",
    "openai_client = OpenAI() # launch"
   ]
  },
  {
   "cell_type": "code",
   "execution_count": 6,
   "id": "7145693b",
   "metadata": {},
   "outputs": [],
   "source": [
    "# completion = openai_client.chat.completions.create(\n",
    "#     model=\"gpt-3.5-turbo\",\n",
    "#     messages=[\n",
    "#     {\"role\": \"system\", \"content\": \"You are a helpful observer who can provide insight on people.\"},\n",
    "#     {\"role\": \"user\", \"content\": q1_complete},\n",
    "#     ],\n",
    "#     max_tokens = 10,\n",
    "#     temperature = 0,\n",
    "# )\n",
    "\n",
    "# print(completion)\n",
    "# print(completion.choices[0].message.content)"
   ]
  }
 ],
 "metadata": {
  "kernelspec": {
   "display_name": "Python 3 (ipykernel)",
   "language": "python",
   "name": "python3"
  },
  "language_info": {
   "codemirror_mode": {
    "name": "ipython",
    "version": 3
   },
   "file_extension": ".py",
   "mimetype": "text/x-python",
   "name": "python",
   "nbconvert_exporter": "python",
   "pygments_lexer": "ipython3",
   "version": "3.12.2"
  }
 },
 "nbformat": 4,
 "nbformat_minor": 5
}
