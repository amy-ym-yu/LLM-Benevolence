{
  "metadata": {
    "kernelspec": {
      "name": "SQLite",
      "display_name": "SQLite",
      "language": "sql"
    },
    "language_info": {
      "codemirror_mode": "sql",
      "file_extension": "",
      "mimetype": "",
      "name": "sql",
      "version": "3.32.3"
    }
  },
  "nbformat_minor": 5,
  "nbformat": 4,
  "cells": [
    {
      "id": "495ef5fe-489a-4228-ad6d-56851dd3a6e4",
      "cell_type": "code",
      "source": "import pandas as pd\nimport matplotlib.pyplot as plt\nfrom ast import literal_eval\nimport textwrap\n\n# Function to wrap labels\ndef wrap_labels(labels, width):\n    return ['\\n'.join(textwrap.wrap(label, width)) for label in labels]",
      "metadata": {
        "trusted": true
      },
      "outputs": [
        {
          "ename": "Error",
          "evalue": "Please load a database to perform operations",
          "traceback": [
            "Error: Please load a database to perform operations"
          ],
          "output_type": "error"
        }
      ],
      "execution_count": 1
    },
    {
      "id": "676d0c95-3177-4414-a705-fd2f33659520",
      "cell_type": "markdown",
      "source": "# Graphs: ( Score - MinutesWaited ) x ( Age - Gender - Race - Options )",
      "metadata": {}
    },
    {
      "id": "4cfcd47f-b26b-44f4-b270-f82a11f8defa",
      "cell_type": "code",
      "source": "# Load and Combine GPT/Calude Data\ngpt_file = \"gpt_responses_enum.csv\"\ngpt_data = pd.read_csv(gpt_file)\ngpt_data['Source'] = 'GPT'\nclaude_file = \"claude_responses_enum.csv\"\nclaude_data = pd.read_csv(claude_file)\nclaude_data['Source'] = 'Claude'\ncombined_data = pd.concat([gpt_data, claude_data])\n\n# Define Column Data\ny_columns = ['Overall Score', 'Minutes Waited']\nx_columns = ['Age', 'Gender', 'Race', 'Option']\n\ndef conditionbarplot(data, y_columns, x_columns):\n    for y in y_columns:\n        for x in x_columns:\n            plt.figure(figsize=(16, 9))\n            means = data.groupby([x, 'Source'])[y].mean().unstack().reset_index()\n            n_bars = len(means)\n            labels = means[x].astype(str)\n            wrapped_labels = wrap_labels(labels, 10)\n            \n            x_pos = range(len(means))\n            bar_width = 0.4\n            \n            bars1 = plt.bar(x_pos, means['GPT'], width=bar_width, label='GPT', color=plt.cm.Blues(0.6))\n            bars2 = plt.bar([p + bar_width for p in x_pos], means['Claude'], width=bar_width, label='Claude', color=plt.cm.Oranges(0.6))\n\n            for bar in bars1:\n                height = bar.get_height()\n                plt.text(bar.get_x() + bar.get_width() / 2, height, f'{height:.2f}', ha='center', va='bottom')\n            for bar in bars2:\n                height = bar.get_height()\n                plt.text(bar.get_x() + bar_width / 2, height, f'{height:.2f}', ha='center', va='bottom')\n            \n            \n            plt.xlabel(x)\n            plt.ylabel(y)\n            plt.title(f'{y} by {x}')\n            plt.xticks([p + bar_width / 2 for p in x_pos], wrapped_labels, rotation=0)\n            plt.legend()\n            plt.tight_layout()\n            plt.show()\n",
      "metadata": {
        "trusted": true
      },
      "outputs": [
        {
          "ename": "Error",
          "evalue": "Please load a database to perform operations",
          "traceback": [
            "Error: Please load a database to perform operations"
          ],
          "output_type": "error"
        }
      ],
      "execution_count": 2
    },
    {
      "id": "29267fe5-26c9-4d7c-be2f-97fea9c3b66b",
      "cell_type": "code",
      "source": "# Output\nconditionbarplot(combined_data, y_columns, x_columns)",
      "metadata": {
        "trusted": true
      },
      "outputs": [
        {
          "ename": "Error",
          "evalue": "Please load a database to perform operations",
          "traceback": [
            "Error: Please load a database to perform operations"
          ],
          "output_type": "error"
        }
      ],
      "execution_count": 3
    },
    {
      "id": "8133c9cf-40ab-4f89-8837-0e7684d189dc",
      "cell_type": "markdown",
      "source": "# Graph: ( GPT Average Scores ) x ( Survey Action - Survey Average Score )",
      "metadata": {}
    },
    {
      "id": "c75d5375-95f5-4da5-808b-0855e3584d4a",
      "cell_type": "code",
      "source": "# Get average scores from gpt data \ngpt_file = \"gpt_responses_enum.csv\"\ngpt_data = pd.read_csv(gpt_file)\naverage_gpt_score = gpt_data['Overall Score'].mean()\n\n# Get average scores from claude data \nclaude_file = \"claude_responses_enum.csv\"\nclaude_data = pd.read_csv(claude_file)\naverage_claude_score = claude_data['Overall Score'].mean()\n\n# Get average scores from survey data \nsurvey_file = \"BenevolenceSurveyResponses.csv\"\nsurvey_data = pd.read_csv(survey_file)\nsurvey_data = survey_data.iloc[:, 1:]\naverage_survey_scores = survey_data.mean() * 10\n\ndef actionsbarplot(average_gpt_score, average_claude_score, average_survey_scores):\n    \n    # Plot\n    plt.figure(figsize=(16, 9))\n    combined_scores = pd.DataFrame({'Action': ['GPT', 'Claude'] + list(average_survey_scores.index),'Average Score': [average_gpt_score, average_claude_score] + list(average_survey_scores.values)})\n    colors = ['blue', 'orange'] + ['green'] * len(average_survey_scores)\n    bars1 = plt.bar(combined_scores['Action'], combined_scores['Average Score'], color=colors, alpha=0.6, width=0.6)\n    \n    # Labels\n    for bar in bars1:\n        height = bar.get_height()\n        plt.text(bar.get_x() + bar.get_width() / 2, height, f'{height:.2f}', ha='center', va='bottom')\n\n    labels = wrap_labels(combined_scores['Action'], 10)\n    plt.xticks(ticks=range(len(labels)), labels=labels, rotation=0, ha='right')\n    plt.xlabel('Actions')\n    plt.ylabel('Average Score')\n    plt.title('Average Benevolence Scores: Claude vs GPT vs Google Survey')\n    plt.legend([bars1[0], bars1[1], bars1[2]], ['GPT Actions Score', 'Claude Actions Score', 'Survey Actions Score'])\n    plt.tight_layout()\n    plt.show()",
      "metadata": {
        "trusted": true
      },
      "outputs": [
        {
          "ename": "Error",
          "evalue": "Please load a database to perform operations",
          "traceback": [
            "Error: Please load a database to perform operations"
          ],
          "output_type": "error"
        }
      ],
      "execution_count": 4
    },
    {
      "id": "15d1bef4-c444-47f1-ac06-4edfdd75edbf",
      "cell_type": "code",
      "source": "# Get Output\nactionsbarplot(average_gpt_score, average_claude_score, average_survey_scores)",
      "metadata": {
        "trusted": true
      },
      "outputs": [
        {
          "ename": "Error",
          "evalue": "Please load a database to perform operations",
          "traceback": [
            "Error: Please load a database to perform operations"
          ],
          "output_type": "error"
        }
      ],
      "execution_count": 5
    },
    {
      "id": "566a1b06-4ccc-45d6-aa1d-b65b133eee03",
      "cell_type": "code",
      "source": "",
      "metadata": {
        "trusted": true
      },
      "outputs": [],
      "execution_count": null
    }
  ]
}