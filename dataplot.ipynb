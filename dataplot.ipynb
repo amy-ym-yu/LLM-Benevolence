{
 "cells": [
  {
   "cell_type": "markdown",
   "id": "4e9ccaf4-5916-4ab8-8b49-5cd550c8f2d1",
   "metadata": {},
   "source": [
    "# Load Data"
   ]
  },
  {
   "cell_type": "code",
   "execution_count": 8,
   "id": "25af2dcb-09d9-4c3f-a2a4-1affbff66998",
   "metadata": {},
   "outputs": [],
   "source": [
    "import pandas as pd\n",
    "import matplotlib.pyplot as plt"
   ]
  },
  {
   "cell_type": "code",
   "execution_count": 9,
   "id": "9f603832-89c2-462e-9da4-c933ba5080fc",
   "metadata": {},
   "outputs": [],
   "source": [
    "gpt_file = \"gpt_responses_enum.csv\"\n",
    "gpt_data = pd.read_csv(gpt_file)"
   ]
  },
  {
   "cell_type": "code",
   "execution_count": 10,
   "id": "f9a1771d-2659-4dce-a7b4-35ddc5da28c0",
   "metadata": {},
   "outputs": [],
   "source": [
    "claude_file = \"claude_responses_enum.csv\"\n",
    "claude_data = pd.read_csv(claude_file)"
   ]
  },
  {
   "cell_type": "markdown",
   "id": "3afbac63-c7d3-4422-9d46-1a8c81a5d30b",
   "metadata": {},
   "source": [
    "# Define Color & Axes"
   ]
  },
  {
   "cell_type": "code",
   "execution_count": 11,
   "id": "623bcd5a-8e7d-4530-b9ae-b11675492ee2",
   "metadata": {},
   "outputs": [],
   "source": [
    "y_columns = ['Overall Score', 'Minutes Waited']\n",
    "x_columns = ['Age', 'Gender', 'Race', 'Other Category', 'Option']\n",
    "color_dict = {'Age': 'green','Gender': 'purple','Race': 'blue','Other Category': 'orange','Option': 'yellow'}\n",
    "default_color = 'red'"
   ]
  },
  {
   "cell_type": "code",
   "execution_count": 30,
   "id": "61face60-add3-409a-ac91-f83838f3038e",
   "metadata": {},
   "outputs": [],
   "source": [
    "def barplot(data, y_columns, x_columns):\n",
    "    \n",
    "    for y in y_columns:\n",
    "        for x in x_columns:\n",
    "            plt.figure(figsize=(10, 6))\n",
    "            \n",
    "            # Calculate the average for each group\n",
    "            means = data.groupby(x)[y].mean().reset_index()\n",
    "            n_bars = len(means)\n",
    "\n",
    "            color_list = [plt.cm.Blues(i / n_bars) for i in range(n_bars)] \n",
    "            color_list = [plt.cm.Blues( 0.2 + (i / n_bars)) for i in range(n_bars)] \n",
    "            bars = plt.bar(means[x], means[y], color=color_list)\n",
    "\n",
    "            \n",
    "            for bar, x_value, mean_value in zip(bars, means[x], means[y]):\n",
    "                height = bar.get_height()\n",
    "                x_val = bar.get_x() + bar.get_width() / 2\n",
    "                plt.text(x_val, height, f'{mean_value:.2f}', ha='center', va='bottom')\n",
    "                            \n",
    "            plt.xlabel(x)\n",
    "            plt.ylabel(y)\n",
    "            plt.title(f'{y} by {x}')\n",
    "            plt.xticks(rotation=45)\n",
    "            plt.tight_layout()\n",
    "\n",
    "            # Save the figure\n",
    "            filename = f\"images/{y}_by_{x}.png\"\n",
    "            plt.savefig(filename)\n",
    "            plt.close()"
   ]
  },
  {
   "cell_type": "markdown",
   "id": "b8cf535a-3962-4ffe-8b34-c3ae2ca8f190",
   "metadata": {},
   "source": [
    "# Create & Display Bar Plots"
   ]
  },
  {
   "cell_type": "code",
   "execution_count": 31,
   "id": "18d0d69b-5535-4632-b72c-d48f5ef56d77",
   "metadata": {},
   "outputs": [],
   "source": [
    "barplot(gpt_data, y_columns, x_columns)"
   ]
  },
  {
   "cell_type": "code",
   "execution_count": 32,
   "id": "5f75a210-2f17-43ee-816b-5fe141a73260",
   "metadata": {},
   "outputs": [],
   "source": [
    "barplot(claude_data, y_columns, x_columns)"
   ]
  },
  {
   "cell_type": "code",
   "execution_count": null,
   "id": "bcbf04ad-0f54-498e-bae7-1ed09250f86f",
   "metadata": {},
   "outputs": [],
   "source": []
  }
 ],
 "metadata": {
  "kernelspec": {
   "display_name": "Python 3 (ipykernel)",
   "language": "python",
   "name": "python3"
  },
  "language_info": {
   "codemirror_mode": {
    "name": "ipython",
    "version": 3
   },
   "file_extension": ".py",
   "mimetype": "text/x-python",
   "name": "python",
   "nbconvert_exporter": "python",
   "pygments_lexer": "ipython3",
   "version": "3.12.2"
  }
 },
 "nbformat": 4,
 "nbformat_minor": 5
}
